{
 "cells": [
  {
   "cell_type": "code",
   "execution_count": 2,
   "metadata": {},
   "outputs": [],
   "source": [
    "x = 5"
   ]
  },
  {
   "cell_type": "markdown",
   "metadata": {},
   "source": [
    "### sfs\n",
    "\n",
    "*k*"
   ]
  }
 ],
 "metadata": {
  "interpreter": {
   "hash": "b33e1c0158611f7ea7f9eb73099f264b5f90cbefa21e4d9b38663e3600b82d4d"
  },
  "kernelspec": {
   "display_name": "Python 3.9.7 64-bit ('methods3': conda)",
   "language": "python",
   "name": "python3"
  },
  "language_info": {
   "codemirror_mode": {
    "name": "ipython",
    "version": 3
   },
   "file_extension": ".py",
   "mimetype": "text/x-python",
   "name": "python",
   "nbconvert_exporter": "python",
   "pygments_lexer": "ipython3",
   "version": "3.9.7"
  },
  "orig_nbformat": 4
 },
 "nbformat": 4,
 "nbformat_minor": 2
}
